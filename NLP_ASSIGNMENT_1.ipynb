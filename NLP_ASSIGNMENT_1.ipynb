{
  "nbformat": 4,
  "nbformat_minor": 0,
  "metadata": {
    "colab": {
      "name": "NLP-ASSIGNMENT-1",
      "provenance": []
    },
    "kernelspec": {
      "name": "python3",
      "display_name": "Python 3"
    },
    "language_info": {
      "name": "python"
    }
  },
  "cells": [
    {
      "cell_type": "code",
      "metadata": {
        "colab": {
          "base_uri": "https://localhost:8080/"
        },
        "id": "0wQlDG3USspr",
        "outputId": "b05318b4-6917-4c91-d8ac-6269190006fe"
      },
      "source": [
        "data = \"\"\"Are  you  fascinated  by  the  amount  of  text  data  available  on  the  internet?  Are  you looking  for  ways  to  work  with  this  text  data  but  aren’t  sure  where  to  begin? Machines, after all, recognize numbers, not the letters of our language. And that can be a tricky landscape to navigate in machine learning.\"\"\"\n",
        "\n",
        "##### problem1\n",
        "##### splitting into sentences\n",
        "def splitIntoSentences(data):\n",
        "  output = []\n",
        "  sentences = data.split(\"?\")\n",
        "  for sentence in sentences:\n",
        "    output.extend(sentence.split(\".\"))\n",
        "  return output\n",
        "sentences_in_data = splitIntoSentences(data)\n",
        "print(sentences_in_data)\n",
        "\n",
        "##### splitting into words\n",
        "words_in_data = data.split()\n",
        "print(words_in_data)"
      ],
      "execution_count": 1,
      "outputs": [
        {
          "output_type": "stream",
          "name": "stdout",
          "text": [
            "['Are  you  fascinated  by  the  amount  of  text  data  available  on  the  internet', '  Are  you looking  for  ways  to  work  with  this  text  data  but  aren’t  sure  where  to  begin', ' Machines, after all, recognize numbers, not the letters of our language', ' And that can be a tricky landscape to navigate in machine learning', '']\n",
            "['Are', 'you', 'fascinated', 'by', 'the', 'amount', 'of', 'text', 'data', 'available', 'on', 'the', 'internet?', 'Are', 'you', 'looking', 'for', 'ways', 'to', 'work', 'with', 'this', 'text', 'data', 'but', 'aren’t', 'sure', 'where', 'to', 'begin?', 'Machines,', 'after', 'all,', 'recognize', 'numbers,', 'not', 'the', 'letters', 'of', 'our', 'language.', 'And', 'that', 'can', 'be', 'a', 'tricky', 'landscape', 'to', 'navigate', 'in', 'machine', 'learning.']\n"
          ]
        }
      ]
    },
    {
      "cell_type": "code",
      "metadata": {
        "colab": {
          "base_uri": "https://localhost:8080/"
        },
        "id": "gtkgj-8yTawv",
        "outputId": "1a9790bd-682f-4a9c-8b2d-6f11f2b90e14"
      },
      "source": [
        "##### problem2 Stemming\n",
        "from nltk.stem import PorterStemmer\n",
        "e_words= [\"cats\", \"trouble\", \"troubling\", \"troubled\", \"having\", \"Corriendo\", \"at\", \"was\"]\n",
        "ps =PorterStemmer()\n",
        "for w in e_words:\n",
        "    rootWord=ps.stem(w)\n",
        "    print(\"Stem for {} is {}\".format(w, rootWord))"
      ],
      "execution_count": 2,
      "outputs": [
        {
          "output_type": "stream",
          "name": "stdout",
          "text": [
            "Stem for cats is cat\n",
            "Stem for trouble is troubl\n",
            "Stem for troubling is troubl\n",
            "Stem for troubled is troubl\n",
            "Stem for having is have\n",
            "Stem for Corriendo is corriendo\n",
            "Stem for at is at\n",
            "Stem for was is wa\n"
          ]
        }
      ]
    },
    {
      "cell_type": "code",
      "metadata": {
        "colab": {
          "base_uri": "https://localhost:8080/"
        },
        "id": "S_QQZ8OMTnEv",
        "outputId": "0d34fdfe-249b-47a5-9491-a0244bf4228b"
      },
      "source": [
        "##### problem3 Lemmatization\n",
        "import nltk\n",
        "nltk.download('wordnet')\n",
        "from nltk.stem import \tWordNetLemmatizer\n",
        "wordnet_lemmatizer = WordNetLemmatizer()\n",
        "for w in e_words:\n",
        "  print(\"Lemma for {} is {}\".format(w, wordnet_lemmatizer.lemmatize(w)))"
      ],
      "execution_count": 3,
      "outputs": [
        {
          "output_type": "stream",
          "name": "stdout",
          "text": [
            "[nltk_data] Downloading package wordnet to /root/nltk_data...\n",
            "[nltk_data]   Unzipping corpora/wordnet.zip.\n",
            "Lemma for cats is cat\n",
            "Lemma for trouble is trouble\n",
            "Lemma for troubling is troubling\n",
            "Lemma for troubled is troubled\n",
            "Lemma for having is having\n",
            "Lemma for Corriendo is Corriendo\n",
            "Lemma for at is at\n",
            "Lemma for was is wa\n"
          ]
        }
      ]
    },
    {
      "cell_type": "code",
      "metadata": {
        "colab": {
          "base_uri": "https://localhost:8080/"
        },
        "id": "LXDj6zvcT1b0",
        "outputId": "a209daa8-99a7-45bb-ecaa-cd04198aa167"
      },
      "source": [
        "data = \"\"\"The NLTK library  is  one  of  the  oldest  and  most  commonly  used  Python  libraries  for Natural Language Processing. NLTK supports stop word removal, and you can find the list of stop words in the  corpus  module. To remove stop words from a sentence, you can divide your text into words and then remove the word if it exits in the list of stop words provided by NLTK.\"\"\"\n",
        "\n",
        "from nltk.corpus import stopwords\n",
        "from nltk.tokenize import word_tokenize\n",
        "nltk.download('punkt')\n",
        "nltk.download('stopwords')\n",
        "words = word_tokenize(data)\n",
        "words = [word.lower() for word in words] \n",
        "\n",
        "##### problem4 stopwords\n",
        "stepWords = []\n",
        "for word in words:\n",
        "  if word in set(stopwords.words(\"english\")):\n",
        "    stepWords.append(word)\n",
        "print(stepWords)"
      ],
      "execution_count": 4,
      "outputs": [
        {
          "output_type": "stream",
          "name": "stdout",
          "text": [
            "[nltk_data] Downloading package punkt to /root/nltk_data...\n",
            "[nltk_data]   Unzipping tokenizers/punkt.zip.\n",
            "[nltk_data] Downloading package stopwords to /root/nltk_data...\n",
            "[nltk_data]   Unzipping corpora/stopwords.zip.\n",
            "['the', 'is', 'of', 'the', 'and', 'most', 'for', 'and', 'you', 'can', 'the', 'of', 'in', 'the', 'to', 'from', 'a', 'you', 'can', 'your', 'into', 'and', 'then', 'the', 'if', 'it', 'in', 'the', 'of', 'by']\n"
          ]
        }
      ]
    },
    {
      "cell_type": "code",
      "metadata": {
        "colab": {
          "base_uri": "https://localhost:8080/"
        },
        "id": "GyyFRjKuT_42",
        "outputId": "77a587e8-1ea7-45ee-be26-ed1c701b0172"
      },
      "source": [
        "##### problem5 frequency\n",
        "dictionary = {}\n",
        "for word in words:\n",
        "  dictionary[word] = dictionary.get(word, 0) + 1\n",
        "print(dictionary)"
      ],
      "execution_count": 5,
      "outputs": [
        {
          "output_type": "stream",
          "name": "stdout",
          "text": [
            "{'the': 6, 'nltk': 3, 'library': 1, 'is': 1, 'one': 1, 'of': 3, 'oldest': 1, 'and': 3, 'most': 1, 'commonly': 1, 'used': 1, 'python': 1, 'libraries': 1, 'for': 1, 'natural': 1, 'language': 1, 'processing': 1, '.': 3, 'supports': 1, 'stop': 4, 'word': 2, 'removal': 1, ',': 2, 'you': 2, 'can': 2, 'find': 1, 'list': 2, 'words': 4, 'in': 2, 'corpus': 1, 'module': 1, 'to': 1, 'remove': 2, 'from': 1, 'a': 1, 'sentence': 1, 'divide': 1, 'your': 1, 'text': 1, 'into': 1, 'then': 1, 'if': 1, 'it': 1, 'exits': 1, 'provided': 1, 'by': 1}\n"
          ]
        }
      ]
    }
  ]
}